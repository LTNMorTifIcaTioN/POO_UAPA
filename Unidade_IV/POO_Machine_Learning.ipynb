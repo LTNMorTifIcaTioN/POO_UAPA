{
 "cells": [
  {
   "metadata": {},
   "cell_type": "markdown",
   "source": "# POO para Análise Exploratória de Dados",
   "id": "6b59ed0240e43653"
  },
  {
   "metadata": {},
   "cell_type": "markdown",
   "source": "## Machine Learning",
   "id": "671a9bbc17b498d8"
  },
  {
   "metadata": {
    "ExecuteTime": {
     "end_time": "2024-04-25T01:21:26.324086Z",
     "start_time": "2024-04-25T01:21:26.291093Z"
    }
   },
   "cell_type": "code",
   "source": [
    "\"\"\"\n",
    "> A aprendizagem de máquina utiliza de conhecimentos matemáticos e estatísticos para identificar padrões através dos dados.\n",
    "Aplicabilidades:\n",
    "> Prever vendas;\n",
    "> Segmentar clientes;\n",
    "> Recomendar produtos;\n",
    "> Criar um chatbot.\n",
    "\n",
    "Processo de mineração de dados:\n",
    "> Business Understandig: identificar as necessidades do negócio;\n",
    "> Data Understanding: identificar os dados;\n",
    "> Data Preparation: preparar os dados;\n",
    "> Model Building: construir o modelo;\n",
    "> Model Evaluation: avaliar o modelo;\n",
    "> Model Deployment: realizar o lançamento do modelo.\n",
    "\"\"\""
   ],
   "id": "f253fe83c96e553e",
   "outputs": [
    {
     "data": {
      "text/plain": [
       "'\\n> A aprendizagem de máquina utiliza de conhecimentos matemáticos e estatísticos para identificar padrões através dos dados.\\nAplicabilidades:\\n> Prever vendas;\\n> Segmentar clientes;\\n> Recomendar produtos;\\n> Criar um chatbot.\\n\\nProcesso de mineração de dados:\\n> Business Understandig: identificar as necessidades do negócio;\\n> Data Understanding: identificar os dados;\\n> Data Preparation: preparar os dados;\\n> Model Building: construir o modelo;\\n> Model Evaluation: avaliar o modelo;\\n> Model Deployment: realizar o lançamento do modelo.\\n'"
      ]
     },
     "execution_count": 1,
     "metadata": {},
     "output_type": "execute_result"
    }
   ],
   "execution_count": 1
  },
  {
   "metadata": {},
   "cell_type": "markdown",
   "source": "# Dataset",
   "id": "f618f86d606c0cc1"
  },
  {
   "metadata": {
    "ExecuteTime": {
     "end_time": "2024-04-25T01:27:36.329382Z",
     "start_time": "2024-04-25T01:27:36.312939Z"
    }
   },
   "cell_type": "code",
   "source": [
    "\"\"\"\n",
    "Baixar o dataset disponível em: https://www.kaggle.com/c/titanic\n",
    "\"\"\""
   ],
   "id": "69670739c6dc798e",
   "outputs": [
    {
     "data": {
      "text/plain": [
       "'\\nBaixar o dataset disponível em: https://www.kaggle.com/c/titanic\\n'"
      ]
     },
     "execution_count": 3,
     "metadata": {},
     "output_type": "execute_result"
    }
   ],
   "execution_count": 3
  },
  {
   "metadata": {},
   "cell_type": "markdown",
   "source": "## Análise do Dataset",
   "id": "cf9d2a96757c6b49"
  },
  {
   "metadata": {
    "ExecuteTime": {
     "end_time": "2024-04-25T01:33:26.730516Z",
     "start_time": "2024-04-25T01:33:26.660822Z"
    }
   },
   "cell_type": "code",
   "source": [
    "import pandas as pd\n",
    "df = pd.read_csv('D:\\\\Users\\\\Nayan Couto\\\\Cloud Drive\\\\Documentos\\\\Arquivos PDF, PPT, DOC\\\\Ciências de Dados - Anhanguera Ampli\\\\Python\\\\Programação Orientada a Objetos para Dados\\\\POO\\\\Unidade_IV\\\\Titanic\\\\train.csv', sep=',')\n",
    "df"
   ],
   "id": "f5c5a967a29c2440",
   "outputs": [
    {
     "data": {
      "text/plain": [
       "     PassengerId  Survived  Pclass  \\\n",
       "0              1         0       3   \n",
       "1              2         1       1   \n",
       "2              3         1       3   \n",
       "3              4         1       1   \n",
       "4              5         0       3   \n",
       "..           ...       ...     ...   \n",
       "886          887         0       2   \n",
       "887          888         1       1   \n",
       "888          889         0       3   \n",
       "889          890         1       1   \n",
       "890          891         0       3   \n",
       "\n",
       "                                                  Name     Sex   Age  SibSp  \\\n",
       "0                              Braund, Mr. Owen Harris    male  22.0      1   \n",
       "1    Cumings, Mrs. John Bradley (Florence Briggs Th...  female  38.0      1   \n",
       "2                               Heikkinen, Miss. Laina  female  26.0      0   \n",
       "3         Futrelle, Mrs. Jacques Heath (Lily May Peel)  female  35.0      1   \n",
       "4                             Allen, Mr. William Henry    male  35.0      0   \n",
       "..                                                 ...     ...   ...    ...   \n",
       "886                              Montvila, Rev. Juozas    male  27.0      0   \n",
       "887                       Graham, Miss. Margaret Edith  female  19.0      0   \n",
       "888           Johnston, Miss. Catherine Helen \"Carrie\"  female   NaN      1   \n",
       "889                              Behr, Mr. Karl Howell    male  26.0      0   \n",
       "890                                Dooley, Mr. Patrick    male  32.0      0   \n",
       "\n",
       "     Parch            Ticket     Fare Cabin Embarked  \n",
       "0        0         A/5 21171   7.2500   NaN        S  \n",
       "1        0          PC 17599  71.2833   C85        C  \n",
       "2        0  STON/O2. 3101282   7.9250   NaN        S  \n",
       "3        0            113803  53.1000  C123        S  \n",
       "4        0            373450   8.0500   NaN        S  \n",
       "..     ...               ...      ...   ...      ...  \n",
       "886      0            211536  13.0000   NaN        S  \n",
       "887      0            112053  30.0000   B42        S  \n",
       "888      2        W./C. 6607  23.4500   NaN        S  \n",
       "889      0            111369  30.0000  C148        C  \n",
       "890      0            370376   7.7500   NaN        Q  \n",
       "\n",
       "[891 rows x 12 columns]"
      ],
      "text/html": [
       "<div>\n",
       "<style scoped>\n",
       "    .dataframe tbody tr th:only-of-type {\n",
       "        vertical-align: middle;\n",
       "    }\n",
       "\n",
       "    .dataframe tbody tr th {\n",
       "        vertical-align: top;\n",
       "    }\n",
       "\n",
       "    .dataframe thead th {\n",
       "        text-align: right;\n",
       "    }\n",
       "</style>\n",
       "<table border=\"1\" class=\"dataframe\">\n",
       "  <thead>\n",
       "    <tr style=\"text-align: right;\">\n",
       "      <th></th>\n",
       "      <th>PassengerId</th>\n",
       "      <th>Survived</th>\n",
       "      <th>Pclass</th>\n",
       "      <th>Name</th>\n",
       "      <th>Sex</th>\n",
       "      <th>Age</th>\n",
       "      <th>SibSp</th>\n",
       "      <th>Parch</th>\n",
       "      <th>Ticket</th>\n",
       "      <th>Fare</th>\n",
       "      <th>Cabin</th>\n",
       "      <th>Embarked</th>\n",
       "    </tr>\n",
       "  </thead>\n",
       "  <tbody>\n",
       "    <tr>\n",
       "      <th>0</th>\n",
       "      <td>1</td>\n",
       "      <td>0</td>\n",
       "      <td>3</td>\n",
       "      <td>Braund, Mr. Owen Harris</td>\n",
       "      <td>male</td>\n",
       "      <td>22.0</td>\n",
       "      <td>1</td>\n",
       "      <td>0</td>\n",
       "      <td>A/5 21171</td>\n",
       "      <td>7.2500</td>\n",
       "      <td>NaN</td>\n",
       "      <td>S</td>\n",
       "    </tr>\n",
       "    <tr>\n",
       "      <th>1</th>\n",
       "      <td>2</td>\n",
       "      <td>1</td>\n",
       "      <td>1</td>\n",
       "      <td>Cumings, Mrs. John Bradley (Florence Briggs Th...</td>\n",
       "      <td>female</td>\n",
       "      <td>38.0</td>\n",
       "      <td>1</td>\n",
       "      <td>0</td>\n",
       "      <td>PC 17599</td>\n",
       "      <td>71.2833</td>\n",
       "      <td>C85</td>\n",
       "      <td>C</td>\n",
       "    </tr>\n",
       "    <tr>\n",
       "      <th>2</th>\n",
       "      <td>3</td>\n",
       "      <td>1</td>\n",
       "      <td>3</td>\n",
       "      <td>Heikkinen, Miss. Laina</td>\n",
       "      <td>female</td>\n",
       "      <td>26.0</td>\n",
       "      <td>0</td>\n",
       "      <td>0</td>\n",
       "      <td>STON/O2. 3101282</td>\n",
       "      <td>7.9250</td>\n",
       "      <td>NaN</td>\n",
       "      <td>S</td>\n",
       "    </tr>\n",
       "    <tr>\n",
       "      <th>3</th>\n",
       "      <td>4</td>\n",
       "      <td>1</td>\n",
       "      <td>1</td>\n",
       "      <td>Futrelle, Mrs. Jacques Heath (Lily May Peel)</td>\n",
       "      <td>female</td>\n",
       "      <td>35.0</td>\n",
       "      <td>1</td>\n",
       "      <td>0</td>\n",
       "      <td>113803</td>\n",
       "      <td>53.1000</td>\n",
       "      <td>C123</td>\n",
       "      <td>S</td>\n",
       "    </tr>\n",
       "    <tr>\n",
       "      <th>4</th>\n",
       "      <td>5</td>\n",
       "      <td>0</td>\n",
       "      <td>3</td>\n",
       "      <td>Allen, Mr. William Henry</td>\n",
       "      <td>male</td>\n",
       "      <td>35.0</td>\n",
       "      <td>0</td>\n",
       "      <td>0</td>\n",
       "      <td>373450</td>\n",
       "      <td>8.0500</td>\n",
       "      <td>NaN</td>\n",
       "      <td>S</td>\n",
       "    </tr>\n",
       "    <tr>\n",
       "      <th>...</th>\n",
       "      <td>...</td>\n",
       "      <td>...</td>\n",
       "      <td>...</td>\n",
       "      <td>...</td>\n",
       "      <td>...</td>\n",
       "      <td>...</td>\n",
       "      <td>...</td>\n",
       "      <td>...</td>\n",
       "      <td>...</td>\n",
       "      <td>...</td>\n",
       "      <td>...</td>\n",
       "      <td>...</td>\n",
       "    </tr>\n",
       "    <tr>\n",
       "      <th>886</th>\n",
       "      <td>887</td>\n",
       "      <td>0</td>\n",
       "      <td>2</td>\n",
       "      <td>Montvila, Rev. Juozas</td>\n",
       "      <td>male</td>\n",
       "      <td>27.0</td>\n",
       "      <td>0</td>\n",
       "      <td>0</td>\n",
       "      <td>211536</td>\n",
       "      <td>13.0000</td>\n",
       "      <td>NaN</td>\n",
       "      <td>S</td>\n",
       "    </tr>\n",
       "    <tr>\n",
       "      <th>887</th>\n",
       "      <td>888</td>\n",
       "      <td>1</td>\n",
       "      <td>1</td>\n",
       "      <td>Graham, Miss. Margaret Edith</td>\n",
       "      <td>female</td>\n",
       "      <td>19.0</td>\n",
       "      <td>0</td>\n",
       "      <td>0</td>\n",
       "      <td>112053</td>\n",
       "      <td>30.0000</td>\n",
       "      <td>B42</td>\n",
       "      <td>S</td>\n",
       "    </tr>\n",
       "    <tr>\n",
       "      <th>888</th>\n",
       "      <td>889</td>\n",
       "      <td>0</td>\n",
       "      <td>3</td>\n",
       "      <td>Johnston, Miss. Catherine Helen \"Carrie\"</td>\n",
       "      <td>female</td>\n",
       "      <td>NaN</td>\n",
       "      <td>1</td>\n",
       "      <td>2</td>\n",
       "      <td>W./C. 6607</td>\n",
       "      <td>23.4500</td>\n",
       "      <td>NaN</td>\n",
       "      <td>S</td>\n",
       "    </tr>\n",
       "    <tr>\n",
       "      <th>889</th>\n",
       "      <td>890</td>\n",
       "      <td>1</td>\n",
       "      <td>1</td>\n",
       "      <td>Behr, Mr. Karl Howell</td>\n",
       "      <td>male</td>\n",
       "      <td>26.0</td>\n",
       "      <td>0</td>\n",
       "      <td>0</td>\n",
       "      <td>111369</td>\n",
       "      <td>30.0000</td>\n",
       "      <td>C148</td>\n",
       "      <td>C</td>\n",
       "    </tr>\n",
       "    <tr>\n",
       "      <th>890</th>\n",
       "      <td>891</td>\n",
       "      <td>0</td>\n",
       "      <td>3</td>\n",
       "      <td>Dooley, Mr. Patrick</td>\n",
       "      <td>male</td>\n",
       "      <td>32.0</td>\n",
       "      <td>0</td>\n",
       "      <td>0</td>\n",
       "      <td>370376</td>\n",
       "      <td>7.7500</td>\n",
       "      <td>NaN</td>\n",
       "      <td>Q</td>\n",
       "    </tr>\n",
       "  </tbody>\n",
       "</table>\n",
       "<p>891 rows × 12 columns</p>\n",
       "</div>"
      ]
     },
     "execution_count": 7,
     "metadata": {},
     "output_type": "execute_result"
    }
   ],
   "execution_count": 7
  },
  {
   "metadata": {},
   "cell_type": "markdown",
   "source": "## Conhecendo o Dataset",
   "id": "ef9096541e4ca94c"
  },
  {
   "metadata": {
    "ExecuteTime": {
     "end_time": "2024-04-25T02:22:06.028712Z",
     "start_time": "2024-04-25T02:22:06.017345Z"
    }
   },
   "cell_type": "code",
   "source": [
    "\"\"\"\n",
    "PassengerId: identificador do passageiro\n",
    "Survived: sobrevivente (1) ou não (0)\n",
    "Pclass: classe da passagem (1, 2, 3)\n",
    "Name: nome do passageiro\n",
    "Sex: sexo (male ou female)\n",
    "Age: idade\n",
    "SibSp: quantos irmãores / irmãoes o passageiro tem\n",
    "Parch: quantos passageiros / passageiras tem o passageiro\n",
    "Ticket: identificador da passagem\n",
    "Fare: tarifa cobrada pelo passageiro\n",
    "Cabin: identificador da cabine\n",
    "Embarked: local de embarque (C = Cherbourg, Q = Queenstown, S = Southampton)\n",
    "\"\"\""
   ],
   "id": "37a6a8983b4003bf",
   "outputs": [
    {
     "data": {
      "text/plain": [
       "'\\nPassengerId: identificador do passageiro\\nSurvived: sobrevivente (1) ou não (0)\\nPclass: classe da passagem (1, 2, 3)\\nName: nome do passageiro\\nSex: sexo (male ou female)\\nAge: idade\\nSibSp: quantos irmãores / irmãoes o passageiro tem\\nParch: quantos passageiros / passageiras tem o passageiro\\nTicket: identificador da passagem\\nFare: tarifa cobrada pelo passageiro\\nCabin: identificador da cabine\\nEmbarked: local de embarque (C = Cherbourg, Q = Queenstown, S = Southampton)\\n'"
      ]
     },
     "execution_count": 8,
     "metadata": {},
     "output_type": "execute_result"
    }
   ],
   "execution_count": 8
  },
  {
   "metadata": {
    "ExecuteTime": {
     "end_time": "2024-04-25T02:44:23.517540Z",
     "start_time": "2024-04-25T02:44:23.503860Z"
    }
   },
   "cell_type": "code",
   "source": [
    "## Analisando os campos vazios\n",
    "df.isna().sum() / df.shape[0]"
   ],
   "id": "b27953e25019af28",
   "outputs": [
    {
     "data": {
      "text/plain": [
       "PassengerId    0.000000\n",
       "Survived       0.000000\n",
       "Pclass         0.000000\n",
       "Name           0.000000\n",
       "Sex            0.000000\n",
       "Age            0.198653\n",
       "SibSp          0.000000\n",
       "Parch          0.000000\n",
       "Ticket         0.000000\n",
       "Fare           0.000000\n",
       "Cabin          0.771044\n",
       "Embarked       0.002245\n",
       "dtype: float64"
      ]
     },
     "execution_count": 18,
     "metadata": {},
     "output_type": "execute_result"
    }
   ],
   "execution_count": 18
  },
  {
   "metadata": {
    "ExecuteTime": {
     "end_time": "2024-04-25T02:57:24.775744Z",
     "start_time": "2024-04-25T02:57:24.766651Z"
    }
   },
   "cell_type": "code",
   "source": [
    "## Imputando os campos vazios\n",
    "df['Age'].mean()"
   ],
   "id": "74e30d3389ffdd2d",
   "outputs": [
    {
     "data": {
      "text/plain": [
       "29.69911764705882"
      ]
     },
     "execution_count": 20,
     "metadata": {},
     "output_type": "execute_result"
    }
   ],
   "execution_count": 20
  },
  {
   "metadata": {
    "ExecuteTime": {
     "end_time": "2024-04-25T02:57:50.468642Z",
     "start_time": "2024-04-25T02:57:50.457862Z"
    }
   },
   "cell_type": "code",
   "source": "df['Age'].median()",
   "id": "26016ea6be970160",
   "outputs": [
    {
     "data": {
      "text/plain": [
       "28.0"
      ]
     },
     "execution_count": 21,
     "metadata": {},
     "output_type": "execute_result"
    }
   ],
   "execution_count": 21
  },
  {
   "metadata": {
    "ExecuteTime": {
     "end_time": "2024-04-25T03:02:52.436204Z",
     "start_time": "2024-04-25T03:02:52.415743Z"
    }
   },
   "cell_type": "code",
   "source": [
    "df_idade = df.groupby(['Pclass', 'Sex'], as_index=False)['Age'].median() #.agg({'Age': 'median'})\n",
    "df_idade"
   ],
   "id": "24b1649dd4d6558",
   "outputs": [
    {
     "data": {
      "text/plain": [
       "   Pclass     Sex        Age\n",
       "0       1  female  32.500000\n",
       "1       1    male  36.000000\n",
       "2       2  female  28.500000\n",
       "3       2    male  29.699118\n",
       "4       3  female  28.000000\n",
       "5       3    male  29.699118"
      ],
      "text/html": [
       "<div>\n",
       "<style scoped>\n",
       "    .dataframe tbody tr th:only-of-type {\n",
       "        vertical-align: middle;\n",
       "    }\n",
       "\n",
       "    .dataframe tbody tr th {\n",
       "        vertical-align: top;\n",
       "    }\n",
       "\n",
       "    .dataframe thead th {\n",
       "        text-align: right;\n",
       "    }\n",
       "</style>\n",
       "<table border=\"1\" class=\"dataframe\">\n",
       "  <thead>\n",
       "    <tr style=\"text-align: right;\">\n",
       "      <th></th>\n",
       "      <th>Pclass</th>\n",
       "      <th>Sex</th>\n",
       "      <th>Age</th>\n",
       "    </tr>\n",
       "  </thead>\n",
       "  <tbody>\n",
       "    <tr>\n",
       "      <th>0</th>\n",
       "      <td>1</td>\n",
       "      <td>female</td>\n",
       "      <td>32.500000</td>\n",
       "    </tr>\n",
       "    <tr>\n",
       "      <th>1</th>\n",
       "      <td>1</td>\n",
       "      <td>male</td>\n",
       "      <td>36.000000</td>\n",
       "    </tr>\n",
       "    <tr>\n",
       "      <th>2</th>\n",
       "      <td>2</td>\n",
       "      <td>female</td>\n",
       "      <td>28.500000</td>\n",
       "    </tr>\n",
       "    <tr>\n",
       "      <th>3</th>\n",
       "      <td>2</td>\n",
       "      <td>male</td>\n",
       "      <td>29.699118</td>\n",
       "    </tr>\n",
       "    <tr>\n",
       "      <th>4</th>\n",
       "      <td>3</td>\n",
       "      <td>female</td>\n",
       "      <td>28.000000</td>\n",
       "    </tr>\n",
       "    <tr>\n",
       "      <th>5</th>\n",
       "      <td>3</td>\n",
       "      <td>male</td>\n",
       "      <td>29.699118</td>\n",
       "    </tr>\n",
       "  </tbody>\n",
       "</table>\n",
       "</div>"
      ]
     },
     "execution_count": 25,
     "metadata": {},
     "output_type": "execute_result"
    }
   ],
   "execution_count": 25
  },
  {
   "metadata": {
    "ExecuteTime": {
     "end_time": "2024-04-25T03:05:41.759122Z",
     "start_time": "2024-04-25T03:05:41.738369Z"
    }
   },
   "cell_type": "code",
   "source": [
    "df_idade_media = df.groupby(['Pclass', 'Sex'], as_index=False)['Age'].mean() #.agg({'Age': 'median'})\n",
    "df_idade_media"
   ],
   "id": "57d3be83d5b4d70c",
   "outputs": [
    {
     "data": {
      "text/plain": [
       "   Pclass     Sex        Age\n",
       "0       1  female  34.141405\n",
       "1       1    male  39.287717\n",
       "2       2  female  28.748661\n",
       "3       2    male  30.653908\n",
       "4       3  female  24.068493\n",
       "5       3    male  27.372153"
      ],
      "text/html": [
       "<div>\n",
       "<style scoped>\n",
       "    .dataframe tbody tr th:only-of-type {\n",
       "        vertical-align: middle;\n",
       "    }\n",
       "\n",
       "    .dataframe tbody tr th {\n",
       "        vertical-align: top;\n",
       "    }\n",
       "\n",
       "    .dataframe thead th {\n",
       "        text-align: right;\n",
       "    }\n",
       "</style>\n",
       "<table border=\"1\" class=\"dataframe\">\n",
       "  <thead>\n",
       "    <tr style=\"text-align: right;\">\n",
       "      <th></th>\n",
       "      <th>Pclass</th>\n",
       "      <th>Sex</th>\n",
       "      <th>Age</th>\n",
       "    </tr>\n",
       "  </thead>\n",
       "  <tbody>\n",
       "    <tr>\n",
       "      <th>0</th>\n",
       "      <td>1</td>\n",
       "      <td>female</td>\n",
       "      <td>34.141405</td>\n",
       "    </tr>\n",
       "    <tr>\n",
       "      <th>1</th>\n",
       "      <td>1</td>\n",
       "      <td>male</td>\n",
       "      <td>39.287717</td>\n",
       "    </tr>\n",
       "    <tr>\n",
       "      <th>2</th>\n",
       "      <td>2</td>\n",
       "      <td>female</td>\n",
       "      <td>28.748661</td>\n",
       "    </tr>\n",
       "    <tr>\n",
       "      <th>3</th>\n",
       "      <td>2</td>\n",
       "      <td>male</td>\n",
       "      <td>30.653908</td>\n",
       "    </tr>\n",
       "    <tr>\n",
       "      <th>4</th>\n",
       "      <td>3</td>\n",
       "      <td>female</td>\n",
       "      <td>24.068493</td>\n",
       "    </tr>\n",
       "    <tr>\n",
       "      <th>5</th>\n",
       "      <td>3</td>\n",
       "      <td>male</td>\n",
       "      <td>27.372153</td>\n",
       "    </tr>\n",
       "  </tbody>\n",
       "</table>\n",
       "</div>"
      ]
     },
     "execution_count": 26,
     "metadata": {},
     "output_type": "execute_result"
    }
   ],
   "execution_count": 26
  },
  {
   "metadata": {},
   "cell_type": "markdown",
   "source": "# Dados para gráficos",
   "id": "b7536c343b711525"
  },
  {
   "metadata": {},
   "cell_type": "code",
   "outputs": [],
   "execution_count": 27,
   "source": [
    "import matplotlib.pyplot as plt\n",
    "import seaborn as sns"
   ],
   "id": "83eae8e3371f3f80"
  },
  {
   "metadata": {
    "ExecuteTime": {
     "end_time": "2024-04-25T03:49:36.859176Z",
     "start_time": "2024-04-25T03:49:36.580098Z"
    }
   },
   "cell_type": "code",
   "source": [
    "# Idade por Classe e Sexo\n",
    "fig, ax = plt.subplots(figsize=(8, 6))\n",
    "colors = {'male': 'blue', 'female': 'pink'}\n",
    "sns.barplot(x='Pclass', y='Age', hue='Sex', data=df_idade_media, ax=ax, palette=colors)\n",
    "ax.set_title('Idade por classe e sexo', fontsize=16)\n",
    "plt.show()"
   ],
   "id": "c959fdef06c786d9",
   "outputs": [
    {
     "data": {
      "text/plain": [
       "<Figure size 800x600 with 1 Axes>"
      ],
      "image/png": "[encoded data removed]"
     },
     "metadata": {},
     "output_type": "display_data"
    }
   ],
   "execution_count": 43
  },
  {
   "metadata": {
    "ExecuteTime": {
     "end_time": "2024-04-25T03:52:37.334977Z",
     "start_time": "2024-04-25T03:52:37.319409Z"
    }
   },
   "cell_type": "code",
   "source": [
    "# Sobrevivência por sexo\n",
    "df_sobrevivencia = df.groupby('Sex', as_index=False)['Survived'].mean() #.agg({'Age': 'median'})\n",
    "df_sobrevivencia"
   ],
   "id": "981dd983eb3e1eb2",
   "outputs": [
    {
     "data": {
      "text/plain": [
       "      Sex  Survived\n",
       "0  female  0.742038\n",
       "1    male  0.188908"
      ],
      "text/html": [
       "<div>\n",
       "<style scoped>\n",
       "    .dataframe tbody tr th:only-of-type {\n",
       "        vertical-align: middle;\n",
       "    }\n",
       "\n",
       "    .dataframe tbody tr th {\n",
       "        vertical-align: top;\n",
       "    }\n",
       "\n",
       "    .dataframe thead th {\n",
       "        text-align: right;\n",
       "    }\n",
       "</style>\n",
       "<table border=\"1\" class=\"dataframe\">\n",
       "  <thead>\n",
       "    <tr style=\"text-align: right;\">\n",
       "      <th></th>\n",
       "      <th>Sex</th>\n",
       "      <th>Survived</th>\n",
       "    </tr>\n",
       "  </thead>\n",
       "  <tbody>\n",
       "    <tr>\n",
       "      <th>0</th>\n",
       "      <td>female</td>\n",
       "      <td>0.742038</td>\n",
       "    </tr>\n",
       "    <tr>\n",
       "      <th>1</th>\n",
       "      <td>male</td>\n",
       "      <td>0.188908</td>\n",
       "    </tr>\n",
       "  </tbody>\n",
       "</table>\n",
       "</div>"
      ]
     },
     "execution_count": 44,
     "metadata": {},
     "output_type": "execute_result"
    }
   ],
   "execution_count": 44
  },
  {
   "metadata": {
    "ExecuteTime": {
     "end_time": "2024-04-25T03:55:41.998785Z",
     "start_time": "2024-04-25T03:55:41.805650Z"
    }
   },
   "cell_type": "code",
   "source": [
    "fig, ax = plt.subplots(figsize=(8, 6))\n",
    "colors = {'male': 'blue', 'female': 'pink'}\n",
    "sns.barplot(x='Sex', y='Survived', data=df_sobrevivencia, ax=ax, palette=colors)\n",
    "ax.set_title('Taxa de Sobrevivência por sexo', fontsize=16)\n",
    "plt.show()"
   ],
   "id": "5a7bac74fdee9592",
   "outputs": [
    {
     "data": {
      "text/plain": [
       "<Figure size 800x600 with 1 Axes>"
      ],
      "image/png": "[encoded data removed]"
     },
     "metadata": {},
     "output_type": "display_data"
    }
   ],
   "execution_count": 46
  },
  {
   "metadata": {},
   "cell_type": "markdown",
   "source": "## Gráficos Complexos",
   "id": "25ad3d90f066d8a6"
  },
  {
   "metadata": {
    "ExecuteTime": {
     "end_time": "2024-04-25T04:57:31.658238Z",
     "start_time": "2024-04-25T04:57:31.642708Z"
    }
   },
   "cell_type": "code",
   "source": [
    "import pandas as pd\n",
    "df_family_size = df['SibSp'] + df['Parch'] + 1\n",
    "df_family_size = df_family_size.to_frame(name='FamilySize')\n",
    "df_fs = pd.concat([df, df_family_size], axis=1)\n",
    "df_plot_fs = df_fs.groupby('FamilySize', as_index=False)['Survived'].mean()\n",
    "df_plot_fs"
   ],
   "id": "3e34774f611dd8f4",
   "outputs": [
    {
     "data": {
      "text/plain": [
       "   FamilySize  Survived\n",
       "0           1  0.303538\n",
       "1           2  0.552795\n",
       "2           3  0.578431\n",
       "3           4  0.724138\n",
       "4           5  0.200000\n",
       "5           6  0.136364\n",
       "6           7  0.333333\n",
       "7           8  0.000000\n",
       "8          11  0.000000"
      ],
      "text/html": [
       "<div>\n",
       "<style scoped>\n",
       "    .dataframe tbody tr th:only-of-type {\n",
       "        vertical-align: middle;\n",
       "    }\n",
       "\n",
       "    .dataframe tbody tr th {\n",
       "        vertical-align: top;\n",
       "    }\n",
       "\n",
       "    .dataframe thead th {\n",
       "        text-align: right;\n",
       "    }\n",
       "</style>\n",
       "<table border=\"1\" class=\"dataframe\">\n",
       "  <thead>\n",
       "    <tr style=\"text-align: right;\">\n",
       "      <th></th>\n",
       "      <th>FamilySize</th>\n",
       "      <th>Survived</th>\n",
       "    </tr>\n",
       "  </thead>\n",
       "  <tbody>\n",
       "    <tr>\n",
       "      <th>0</th>\n",
       "      <td>1</td>\n",
       "      <td>0.303538</td>\n",
       "    </tr>\n",
       "    <tr>\n",
       "      <th>1</th>\n",
       "      <td>2</td>\n",
       "      <td>0.552795</td>\n",
       "    </tr>\n",
       "    <tr>\n",
       "      <th>2</th>\n",
       "      <td>3</td>\n",
       "      <td>0.578431</td>\n",
       "    </tr>\n",
       "    <tr>\n",
       "      <th>3</th>\n",
       "      <td>4</td>\n",
       "      <td>0.724138</td>\n",
       "    </tr>\n",
       "    <tr>\n",
       "      <th>4</th>\n",
       "      <td>5</td>\n",
       "      <td>0.200000</td>\n",
       "    </tr>\n",
       "    <tr>\n",
       "      <th>5</th>\n",
       "      <td>6</td>\n",
       "      <td>0.136364</td>\n",
       "    </tr>\n",
       "    <tr>\n",
       "      <th>6</th>\n",
       "      <td>7</td>\n",
       "      <td>0.333333</td>\n",
       "    </tr>\n",
       "    <tr>\n",
       "      <th>7</th>\n",
       "      <td>8</td>\n",
       "      <td>0.000000</td>\n",
       "    </tr>\n",
       "    <tr>\n",
       "      <th>8</th>\n",
       "      <td>11</td>\n",
       "      <td>0.000000</td>\n",
       "    </tr>\n",
       "  </tbody>\n",
       "</table>\n",
       "</div>"
      ]
     },
     "execution_count": 54,
     "metadata": {},
     "output_type": "execute_result"
    }
   ],
   "execution_count": 54
  },
  {
   "metadata": {
    "ExecuteTime": {
     "end_time": "2024-04-25T04:56:26.760027Z",
     "start_time": "2024-04-25T04:56:26.454357Z"
    }
   },
   "cell_type": "code",
   "source": [
    "fig, ax = plt.subplots(figsize=(8, 6))\n",
    "sns.barplot(x='FamilySize', y='Survived', data=df_plot_fs, ax=ax)\n",
    "ax.set_title('Taxa de Sobrevivência por tamanho da família', fontsize=16)\n",
    "plt.show()"
   ],
   "id": "623a94082a32f310",
   "outputs": [
    {
     "data": {
      "text/plain": [
       "<Figure size 800x600 with 1 Axes>"
      ],
      "image/png": "[encoded data removed]"
     },
     "metadata": {},
     "output_type": "display_data"
    }
   ],
   "execution_count": 53
  },
  {
   "metadata": {},
   "cell_type": "markdown",
   "source": "# Classe para tratamento de dados",
   "id": "4d54ed71739ecb76"
  },
  {
   "metadata": {},
   "cell_type": "markdown",
   "source": "## POO na análise de dados",
   "id": "b82d8d076cbf21ba"
  },
  {
   "metadata": {
    "ExecuteTime": {
     "end_time": "2024-04-25T05:10:33.379059Z",
     "start_time": "2024-04-25T05:10:33.371495Z"
    }
   },
   "cell_type": "code",
   "source": [
    "## Classe DataPrep\n",
    "\"\"\"\n",
    "----------------------------------\n",
    "DataPrep\n",
    "----------------------------------\n",
    "+data\n",
    "----------------------------------\n",
    "+tratar_nulos()\n",
    "+tratar_variaveis_categoricas()\n",
    "+criar_variaveis()\n",
    "+remover_variaveis()\n",
    "+separar_treino_teste()\n",
    "+preparar_dados()\n",
    "----------------------------------\n",
    "\"\"\"\n",
    "## https://bit.ly/classPython_dataprep"
   ],
   "id": "9e5c741d00ea449c",
   "outputs": [
    {
     "data": {
      "text/plain": [
       "'\\n----------------------------------\\nDataPrep\\n----------------------------------\\n+data\\n----------------------------------\\n+tratar_nulos()\\n+tratar_variaveis_categoricas()\\n+criar_variaveis()\\n+remover_variaveis()\\n+separar_treino_teste()\\n+preparar_dados()\\n----------------------------------\\n'"
      ]
     },
     "execution_count": 57,
     "metadata": {},
     "output_type": "execute_result"
    }
   ],
   "execution_count": 57
  },
  {
   "metadata": {
    "ExecuteTime": {
     "end_time": "2024-04-25T06:10:15.275311Z",
     "start_time": "2024-04-25T06:10:15.257868Z"
    }
   },
   "cell_type": "code",
   "source": [
    "from sklearn.preprocessing import MinMaxScaler\n",
    "import pandas as pd\n",
    "from sklearn.model_selection import train_test_split\n",
    "\n",
    "class DataPrep:\n",
    "    def __init__(self, data: pd.DataFrame) -> None:\n",
    "        self.data = data\n",
    "    \n",
    "    def remover_variaveis(self) -> None:\n",
    "        colunas_para_remover = ['PassengerId', 'Name', 'Ticket', 'Cabin', 'Embarked', 'Parch', 'SibSp']\n",
    "        self.data.drop(columns=colunas_para_remover, inplace=True)\n",
    "    \n",
    "    def tratar_nulos(self) -> None:\n",
    "        self.data['Age'] = self.data.groupby(['Pclass', 'Sex'])['Age'] \\\n",
    "            .apply(lambda x: x.fillna(x.median()))\n",
    "        self.data['Embarked'] = self.data['Embarked'].fillna('S')\n",
    "    \n",
    "    def tratar_variaveis_categoricas(self) -> None:\n",
    "        sexo = {'male': 0, 'female': 1}\n",
    "        self.data['Sex'] = self.data['Sex'].map(sexo)\n",
    "        embarked_dummies = pd.get_dummies(self.data['Embarked'])\n",
    "        self.data = pd.concat([self.data, embarked_dummies], axis=1)\n",
    "    \n",
    "    def normalizar_dados(self) -> None:\n",
    "        variaveis = self.data.drop(columns='Survived')\n",
    "        var_cols = variaveis.columns\n",
    "        resposta = self.data['Survived']\n",
    "        scaler = MinMaxScaler()\n",
    "        variaveis = scaler.fit_transform(variaveis)\n",
    "        variaveis = pd.DataFrame(variaveis, columns=var_cols)\n",
    "        self.data = pd.concat([variaveis, resposta], axis=1)\n",
    "    \n",
    "    def criar_variaveis(self) -> None:\n",
    "        self.data = self.data.reset_index()  # Reset the index\n",
    "        self.data['FamilySize'] = self.data['SibSp'] + self.data['Parch'] + 1\n",
    "        # _df = self.data.drop(columns=['SibSp', 'Parch'], inplace=True)\n",
    "        # _df = _df.to_frame(name='FamilySize')\n",
    "        # self.data = pd.concat([self.data, _df], axis=1)\n",
    "        \n",
    "    def separar_treino_teste(self) -> tuple[pd.DataFrame, pd.DataFrame]:\n",
    "        treino, teste = train_test_split(self.data, test_size=0.3, random_state=2021)\n",
    "        return treino, teste\n",
    "    \n",
    "    def preparar_dados(self) -> tuple[pd.DataFrame, pd.DataFrame]:\n",
    "        self.tratar_nulos()\n",
    "        self.tratar_variaveis_categoricas()\n",
    "        self.criar_variaveis()\n",
    "        self.remover_variaveis()\n",
    "        treino, teste = self.separar_treino_teste()\n",
    "        return treino, teste"
   ],
   "id": "639a302bfbd002dc",
   "outputs": [],
   "execution_count": 83
  },
  {
   "metadata": {
    "ExecuteTime": {
     "end_time": "2024-04-25T06:10:16.133259Z",
     "start_time": "2024-04-25T06:10:16.122582Z"
    }
   },
   "cell_type": "code",
   "source": [
    "df2 = pd.read_csv('D:\\\\Users\\\\Nayan Couto\\\\Cloud Drive\\\\Documentos\\\\Arquivos PDF, PPT, DOC\\\\Ciências de Dados - Anhanguera Ampli\\\\Python\\\\Programação Orientada a Objetos para Dados\\\\POO\\\\Unidade_IV\\\\Titanic\\\\train.csv', sep=',')\n",
    "dp = DataPrep(df2)"
   ],
   "id": "138d27c3ccc88a77",
   "outputs": [],
   "execution_count": 84
  },
  {
   "metadata": {
    "ExecuteTime": {
     "end_time": "2024-04-25T06:10:17.222261Z",
     "start_time": "2024-04-25T06:10:17.034193Z"
    }
   },
   "cell_type": "code",
   "source": "df_treino, df_teste = dp.preparar_dados()",
   "id": "699938d38b11eb2a",
   "outputs": [
    {
     "ename": "TypeError",
     "evalue": "incompatible index of inserted column with frame index",
     "output_type": "error",
     "traceback": [
      "\u001B[1;31m---------------------------------------------------------------------------\u001B[0m",
      "\u001B[1;31mValueError\u001B[0m                                Traceback (most recent call last)",
      "File \u001B[1;32m~\\.conda\\envs\\POO\\Lib\\site-packages\\pandas\\core\\frame.py:12674\u001B[0m, in \u001B[0;36m_reindex_for_setitem\u001B[1;34m(value, index)\u001B[0m\n\u001B[0;32m  12673\u001B[0m \u001B[38;5;28;01mtry\u001B[39;00m:\n\u001B[1;32m> 12674\u001B[0m     reindexed_value \u001B[38;5;241m=\u001B[39m value\u001B[38;5;241m.\u001B[39mreindex(index)\u001B[38;5;241m.\u001B[39m_values\n\u001B[0;32m  12675\u001B[0m \u001B[38;5;28;01mexcept\u001B[39;00m \u001B[38;5;167;01mValueError\u001B[39;00m \u001B[38;5;28;01mas\u001B[39;00m err:\n\u001B[0;32m  12676\u001B[0m     \u001B[38;5;66;03m# raised in MultiIndex.from_tuples, see test_insert_error_msmgs\u001B[39;00m\n",
      "File \u001B[1;32m~\\.conda\\envs\\POO\\Lib\\site-packages\\pandas\\core\\series.py:5144\u001B[0m, in \u001B[0;36mSeries.reindex\u001B[1;34m(self, index, axis, method, copy, level, fill_value, limit, tolerance)\u001B[0m\n\u001B[0;32m   5127\u001B[0m \u001B[38;5;129m@doc\u001B[39m(\n\u001B[0;32m   5128\u001B[0m     NDFrame\u001B[38;5;241m.\u001B[39mreindex,  \u001B[38;5;66;03m# type: ignore[has-type]\u001B[39;00m\n\u001B[0;32m   5129\u001B[0m     klass\u001B[38;5;241m=\u001B[39m_shared_doc_kwargs[\u001B[38;5;124m\"\u001B[39m\u001B[38;5;124mklass\u001B[39m\u001B[38;5;124m\"\u001B[39m],\n\u001B[1;32m   (...)\u001B[0m\n\u001B[0;32m   5142\u001B[0m     tolerance\u001B[38;5;241m=\u001B[39m\u001B[38;5;28;01mNone\u001B[39;00m,\n\u001B[0;32m   5143\u001B[0m ) \u001B[38;5;241m-\u001B[39m\u001B[38;5;241m>\u001B[39m Series:\n\u001B[1;32m-> 5144\u001B[0m     \u001B[38;5;28;01mreturn\u001B[39;00m \u001B[38;5;28msuper\u001B[39m()\u001B[38;5;241m.\u001B[39mreindex(\n\u001B[0;32m   5145\u001B[0m         index\u001B[38;5;241m=\u001B[39mindex,\n\u001B[0;32m   5146\u001B[0m         method\u001B[38;5;241m=\u001B[39mmethod,\n\u001B[0;32m   5147\u001B[0m         copy\u001B[38;5;241m=\u001B[39mcopy,\n\u001B[0;32m   5148\u001B[0m         level\u001B[38;5;241m=\u001B[39mlevel,\n\u001B[0;32m   5149\u001B[0m         fill_value\u001B[38;5;241m=\u001B[39mfill_value,\n\u001B[0;32m   5150\u001B[0m         limit\u001B[38;5;241m=\u001B[39mlimit,\n\u001B[0;32m   5151\u001B[0m         tolerance\u001B[38;5;241m=\u001B[39mtolerance,\n\u001B[0;32m   5152\u001B[0m     )\n",
      "File \u001B[1;32m~\\.conda\\envs\\POO\\Lib\\site-packages\\pandas\\core\\generic.py:5607\u001B[0m, in \u001B[0;36mNDFrame.reindex\u001B[1;34m(self, labels, index, columns, axis, method, copy, level, fill_value, limit, tolerance)\u001B[0m\n\u001B[0;32m   5606\u001B[0m \u001B[38;5;66;03m# perform the reindex on the axes\u001B[39;00m\n\u001B[1;32m-> 5607\u001B[0m \u001B[38;5;28;01mreturn\u001B[39;00m \u001B[38;5;28mself\u001B[39m\u001B[38;5;241m.\u001B[39m_reindex_axes(\n\u001B[0;32m   5608\u001B[0m     axes, level, limit, tolerance, method, fill_value, copy\n\u001B[0;32m   5609\u001B[0m )\u001B[38;5;241m.\u001B[39m__finalize__(\u001B[38;5;28mself\u001B[39m, method\u001B[38;5;241m=\u001B[39m\u001B[38;5;124m\"\u001B[39m\u001B[38;5;124mreindex\u001B[39m\u001B[38;5;124m\"\u001B[39m)\n",
      "File \u001B[1;32m~\\.conda\\envs\\POO\\Lib\\site-packages\\pandas\\core\\generic.py:5630\u001B[0m, in \u001B[0;36mNDFrame._reindex_axes\u001B[1;34m(self, axes, level, limit, tolerance, method, fill_value, copy)\u001B[0m\n\u001B[0;32m   5629\u001B[0m ax \u001B[38;5;241m=\u001B[39m \u001B[38;5;28mself\u001B[39m\u001B[38;5;241m.\u001B[39m_get_axis(a)\n\u001B[1;32m-> 5630\u001B[0m new_index, indexer \u001B[38;5;241m=\u001B[39m ax\u001B[38;5;241m.\u001B[39mreindex(\n\u001B[0;32m   5631\u001B[0m     labels, level\u001B[38;5;241m=\u001B[39mlevel, limit\u001B[38;5;241m=\u001B[39mlimit, tolerance\u001B[38;5;241m=\u001B[39mtolerance, method\u001B[38;5;241m=\u001B[39mmethod\n\u001B[0;32m   5632\u001B[0m )\n\u001B[0;32m   5634\u001B[0m axis \u001B[38;5;241m=\u001B[39m \u001B[38;5;28mself\u001B[39m\u001B[38;5;241m.\u001B[39m_get_axis_number(a)\n",
      "File \u001B[1;32m~\\.conda\\envs\\POO\\Lib\\site-packages\\pandas\\core\\indexes\\base.py:4433\u001B[0m, in \u001B[0;36mIndex.reindex\u001B[1;34m(self, target, method, level, limit, tolerance)\u001B[0m\n\u001B[0;32m   4431\u001B[0m             indexer, _ \u001B[38;5;241m=\u001B[39m \u001B[38;5;28mself\u001B[39m\u001B[38;5;241m.\u001B[39mget_indexer_non_unique(target)\n\u001B[1;32m-> 4433\u001B[0m target \u001B[38;5;241m=\u001B[39m \u001B[38;5;28mself\u001B[39m\u001B[38;5;241m.\u001B[39m_wrap_reindex_result(target, indexer, preserve_names)\n\u001B[0;32m   4434\u001B[0m \u001B[38;5;28;01mreturn\u001B[39;00m target, indexer\n",
      "File \u001B[1;32m~\\.conda\\envs\\POO\\Lib\\site-packages\\pandas\\core\\indexes\\multi.py:2717\u001B[0m, in \u001B[0;36mMultiIndex._wrap_reindex_result\u001B[1;34m(self, target, indexer, preserve_names)\u001B[0m\n\u001B[0;32m   2716\u001B[0m \u001B[38;5;28;01mtry\u001B[39;00m:\n\u001B[1;32m-> 2717\u001B[0m     target \u001B[38;5;241m=\u001B[39m MultiIndex\u001B[38;5;241m.\u001B[39mfrom_tuples(target)\n\u001B[0;32m   2718\u001B[0m \u001B[38;5;28;01mexcept\u001B[39;00m \u001B[38;5;167;01mTypeError\u001B[39;00m:\n\u001B[0;32m   2719\u001B[0m     \u001B[38;5;66;03m# not all tuples, see test_constructor_dict_multiindex_reindex_flat\u001B[39;00m\n",
      "File \u001B[1;32m~\\.conda\\envs\\POO\\Lib\\site-packages\\pandas\\core\\indexes\\multi.py:222\u001B[0m, in \u001B[0;36mnames_compat.<locals>.new_meth\u001B[1;34m(self_or_cls, *args, **kwargs)\u001B[0m\n\u001B[0;32m    220\u001B[0m     kwargs[\u001B[38;5;124m\"\u001B[39m\u001B[38;5;124mnames\u001B[39m\u001B[38;5;124m\"\u001B[39m] \u001B[38;5;241m=\u001B[39m kwargs\u001B[38;5;241m.\u001B[39mpop(\u001B[38;5;124m\"\u001B[39m\u001B[38;5;124mname\u001B[39m\u001B[38;5;124m\"\u001B[39m)\n\u001B[1;32m--> 222\u001B[0m \u001B[38;5;28;01mreturn\u001B[39;00m meth(self_or_cls, \u001B[38;5;241m*\u001B[39margs, \u001B[38;5;241m*\u001B[39m\u001B[38;5;241m*\u001B[39mkwargs)\n",
      "File \u001B[1;32m~\\.conda\\envs\\POO\\Lib\\site-packages\\pandas\\core\\indexes\\multi.py:617\u001B[0m, in \u001B[0;36mMultiIndex.from_tuples\u001B[1;34m(cls, tuples, sortorder, names)\u001B[0m\n\u001B[0;32m    615\u001B[0m         tuples \u001B[38;5;241m=\u001B[39m np\u001B[38;5;241m.\u001B[39masarray(tuples\u001B[38;5;241m.\u001B[39m_values)\n\u001B[1;32m--> 617\u001B[0m     arrays \u001B[38;5;241m=\u001B[39m \u001B[38;5;28mlist\u001B[39m(lib\u001B[38;5;241m.\u001B[39mtuples_to_object_array(tuples)\u001B[38;5;241m.\u001B[39mT)\n\u001B[0;32m    618\u001B[0m \u001B[38;5;28;01melif\u001B[39;00m \u001B[38;5;28misinstance\u001B[39m(tuples, \u001B[38;5;28mlist\u001B[39m):\n",
      "File \u001B[1;32mlib.pyx:3029\u001B[0m, in \u001B[0;36mpandas._libs.lib.tuples_to_object_array\u001B[1;34m()\u001B[0m\n",
      "\u001B[1;31mValueError\u001B[0m: Buffer dtype mismatch, expected 'Python object' but got 'long long'",
      "\nThe above exception was the direct cause of the following exception:\n",
      "\u001B[1;31mTypeError\u001B[0m                                 Traceback (most recent call last)",
      "\u001B[1;32m~\\AppData\\Local\\Temp\\ipykernel_38240\\3389992.py\u001B[0m in \u001B[0;36m?\u001B[1;34m()\u001B[0m\n\u001B[1;32m----> 1\u001B[1;33m \u001B[0mdf_treino\u001B[0m\u001B[1;33m,\u001B[0m \u001B[0mdf_teste\u001B[0m \u001B[1;33m=\u001B[0m \u001B[0mdp\u001B[0m\u001B[1;33m.\u001B[0m\u001B[0mpreparar_dados\u001B[0m\u001B[1;33m(\u001B[0m\u001B[1;33m)\u001B[0m\u001B[1;33m\u001B[0m\u001B[1;33m\u001B[0m\u001B[0m\n\u001B[0m",
      "\u001B[1;32m~\\AppData\\Local\\Temp\\ipykernel_38240\\4264782840.py\u001B[0m in \u001B[0;36m?\u001B[1;34m(self)\u001B[0m\n\u001B[0;32m     44\u001B[0m     \u001B[1;32mdef\u001B[0m \u001B[0mpreparar_dados\u001B[0m\u001B[1;33m(\u001B[0m\u001B[0mself\u001B[0m\u001B[1;33m)\u001B[0m \u001B[1;33m->\u001B[0m \u001B[0mtuple\u001B[0m\u001B[1;33m[\u001B[0m\u001B[0mpd\u001B[0m\u001B[1;33m.\u001B[0m\u001B[0mDataFrame\u001B[0m\u001B[1;33m,\u001B[0m \u001B[0mpd\u001B[0m\u001B[1;33m.\u001B[0m\u001B[0mDataFrame\u001B[0m\u001B[1;33m]\u001B[0m\u001B[1;33m:\u001B[0m\u001B[1;33m\u001B[0m\u001B[1;33m\u001B[0m\u001B[0m\n\u001B[1;32m---> 45\u001B[1;33m         \u001B[0mself\u001B[0m\u001B[1;33m.\u001B[0m\u001B[0mtratar_nulos\u001B[0m\u001B[1;33m(\u001B[0m\u001B[1;33m)\u001B[0m\u001B[1;33m\u001B[0m\u001B[1;33m\u001B[0m\u001B[0m\n\u001B[0m\u001B[0;32m     46\u001B[0m         \u001B[0mself\u001B[0m\u001B[1;33m.\u001B[0m\u001B[0mtratar_variaveis_categoricas\u001B[0m\u001B[1;33m(\u001B[0m\u001B[1;33m)\u001B[0m\u001B[1;33m\u001B[0m\u001B[1;33m\u001B[0m\u001B[0m\n\u001B[0;32m     47\u001B[0m         \u001B[0mself\u001B[0m\u001B[1;33m.\u001B[0m\u001B[0mcriar_variaveis\u001B[0m\u001B[1;33m(\u001B[0m\u001B[1;33m)\u001B[0m\u001B[1;33m\u001B[0m\u001B[1;33m\u001B[0m\u001B[0m\n\u001B[0;32m     48\u001B[0m         \u001B[0mself\u001B[0m\u001B[1;33m.\u001B[0m\u001B[0mremover_variaveis\u001B[0m\u001B[1;33m(\u001B[0m\u001B[1;33m)\u001B[0m\u001B[1;33m\u001B[0m\u001B[1;33m\u001B[0m\u001B[0m\n",
      "\u001B[1;32m~\\AppData\\Local\\Temp\\ipykernel_38240\\4264782840.py\u001B[0m in \u001B[0;36m?\u001B[1;34m(self)\u001B[0m\n\u001B[0;32m     13\u001B[0m     \u001B[1;32mdef\u001B[0m \u001B[0mtratar_nulos\u001B[0m\u001B[1;33m(\u001B[0m\u001B[0mself\u001B[0m\u001B[1;33m)\u001B[0m \u001B[1;33m->\u001B[0m \u001B[1;32mNone\u001B[0m\u001B[1;33m:\u001B[0m\u001B[1;33m\u001B[0m\u001B[1;33m\u001B[0m\u001B[0m\n\u001B[1;32m---> 14\u001B[1;33m         \u001B[0mself\u001B[0m\u001B[1;33m.\u001B[0m\u001B[0mdata\u001B[0m\u001B[1;33m[\u001B[0m\u001B[1;34m'Age'\u001B[0m\u001B[1;33m]\u001B[0m \u001B[1;33m=\u001B[0m \u001B[0mself\u001B[0m\u001B[1;33m.\u001B[0m\u001B[0mdata\u001B[0m\u001B[1;33m.\u001B[0m\u001B[0mgroupby\u001B[0m\u001B[1;33m(\u001B[0m\u001B[1;33m[\u001B[0m\u001B[1;34m'Pclass'\u001B[0m\u001B[1;33m,\u001B[0m \u001B[1;34m'Sex'\u001B[0m\u001B[1;33m]\u001B[0m\u001B[1;33m)\u001B[0m\u001B[1;33m[\u001B[0m\u001B[1;34m'Age'\u001B[0m\u001B[1;33m]\u001B[0m\u001B[0;31m \u001B[0m\u001B[0;31m\\\u001B[0m\u001B[1;33m\u001B[0m\u001B[1;33m\u001B[0m\u001B[0m\n\u001B[0m\u001B[0;32m     15\u001B[0m             \u001B[1;33m.\u001B[0m\u001B[0mapply\u001B[0m\u001B[1;33m(\u001B[0m\u001B[1;32mlambda\u001B[0m \u001B[0mx\u001B[0m\u001B[1;33m:\u001B[0m \u001B[0mx\u001B[0m\u001B[1;33m.\u001B[0m\u001B[0mfillna\u001B[0m\u001B[1;33m(\u001B[0m\u001B[0mx\u001B[0m\u001B[1;33m.\u001B[0m\u001B[0mmedian\u001B[0m\u001B[1;33m(\u001B[0m\u001B[1;33m)\u001B[0m\u001B[1;33m)\u001B[0m\u001B[1;33m)\u001B[0m\u001B[1;33m\u001B[0m\u001B[1;33m\u001B[0m\u001B[0m\n\u001B[0;32m     16\u001B[0m         \u001B[0mself\u001B[0m\u001B[1;33m.\u001B[0m\u001B[0mdata\u001B[0m\u001B[1;33m[\u001B[0m\u001B[1;34m'Embarked'\u001B[0m\u001B[1;33m]\u001B[0m \u001B[1;33m=\u001B[0m \u001B[0mself\u001B[0m\u001B[1;33m.\u001B[0m\u001B[0mdata\u001B[0m\u001B[1;33m[\u001B[0m\u001B[1;34m'Embarked'\u001B[0m\u001B[1;33m]\u001B[0m\u001B[1;33m.\u001B[0m\u001B[0mfillna\u001B[0m\u001B[1;33m(\u001B[0m\u001B[1;34m'S'\u001B[0m\u001B[1;33m)\u001B[0m\u001B[1;33m\u001B[0m\u001B[1;33m\u001B[0m\u001B[0m\n",
      "\u001B[1;32m~\\.conda\\envs\\POO\\Lib\\site-packages\\pandas\\core\\frame.py\u001B[0m in \u001B[0;36m?\u001B[1;34m(self, key, value)\u001B[0m\n\u001B[0;32m   4295\u001B[0m             \u001B[1;31m# Column to set is duplicated\u001B[0m\u001B[1;33m\u001B[0m\u001B[1;33m\u001B[0m\u001B[0m\n\u001B[0;32m   4296\u001B[0m             \u001B[0mself\u001B[0m\u001B[1;33m.\u001B[0m\u001B[0m_setitem_array\u001B[0m\u001B[1;33m(\u001B[0m\u001B[1;33m[\u001B[0m\u001B[0mkey\u001B[0m\u001B[1;33m]\u001B[0m\u001B[1;33m,\u001B[0m \u001B[0mvalue\u001B[0m\u001B[1;33m)\u001B[0m\u001B[1;33m\u001B[0m\u001B[1;33m\u001B[0m\u001B[0m\n\u001B[0;32m   4297\u001B[0m         \u001B[1;32melse\u001B[0m\u001B[1;33m:\u001B[0m\u001B[1;33m\u001B[0m\u001B[1;33m\u001B[0m\u001B[0m\n\u001B[0;32m   4298\u001B[0m             \u001B[1;31m# set column\u001B[0m\u001B[1;33m\u001B[0m\u001B[1;33m\u001B[0m\u001B[0m\n\u001B[1;32m-> 4299\u001B[1;33m             \u001B[0mself\u001B[0m\u001B[1;33m.\u001B[0m\u001B[0m_set_item\u001B[0m\u001B[1;33m(\u001B[0m\u001B[0mkey\u001B[0m\u001B[1;33m,\u001B[0m \u001B[0mvalue\u001B[0m\u001B[1;33m)\u001B[0m\u001B[1;33m\u001B[0m\u001B[1;33m\u001B[0m\u001B[0m\n\u001B[0m",
      "\u001B[1;32m~\\.conda\\envs\\POO\\Lib\\site-packages\\pandas\\core\\frame.py\u001B[0m in \u001B[0;36m?\u001B[1;34m(self, key, value)\u001B[0m\n\u001B[0;32m   4508\u001B[0m \u001B[1;33m\u001B[0m\u001B[0m\n\u001B[0;32m   4509\u001B[0m         \u001B[0mSeries\u001B[0m\u001B[1;33m/\u001B[0m\u001B[0mTimeSeries\u001B[0m \u001B[0mwill\u001B[0m \u001B[0mbe\u001B[0m \u001B[0mconformed\u001B[0m \u001B[0mto\u001B[0m \u001B[0mthe\u001B[0m \u001B[0mDataFrames\u001B[0m \u001B[0mindex\u001B[0m \u001B[0mto\u001B[0m\u001B[1;33m\u001B[0m\u001B[1;33m\u001B[0m\u001B[0m\n\u001B[0;32m   4510\u001B[0m         \u001B[0mensure\u001B[0m \u001B[0mhomogeneity\u001B[0m\u001B[1;33m.\u001B[0m\u001B[1;33m\u001B[0m\u001B[1;33m\u001B[0m\u001B[0m\n\u001B[0;32m   4511\u001B[0m         \"\"\"\n\u001B[1;32m-> 4512\u001B[1;33m         \u001B[0mvalue\u001B[0m\u001B[1;33m,\u001B[0m \u001B[0mrefs\u001B[0m \u001B[1;33m=\u001B[0m \u001B[0mself\u001B[0m\u001B[1;33m.\u001B[0m\u001B[0m_sanitize_column\u001B[0m\u001B[1;33m(\u001B[0m\u001B[0mvalue\u001B[0m\u001B[1;33m)\u001B[0m\u001B[1;33m\u001B[0m\u001B[1;33m\u001B[0m\u001B[0m\n\u001B[0m\u001B[0;32m   4513\u001B[0m \u001B[1;33m\u001B[0m\u001B[0m\n\u001B[0;32m   4514\u001B[0m         if (\n\u001B[0;32m   4515\u001B[0m             \u001B[0mkey\u001B[0m \u001B[1;32min\u001B[0m \u001B[0mself\u001B[0m\u001B[1;33m.\u001B[0m\u001B[0mcolumns\u001B[0m\u001B[1;33m\u001B[0m\u001B[1;33m\u001B[0m\u001B[0m\n",
      "\u001B[1;32m~\\.conda\\envs\\POO\\Lib\\site-packages\\pandas\\core\\frame.py\u001B[0m in \u001B[0;36m?\u001B[1;34m(self, value)\u001B[0m\n\u001B[0;32m   5246\u001B[0m         \u001B[1;32massert\u001B[0m \u001B[1;32mnot\u001B[0m \u001B[0misinstance\u001B[0m\u001B[1;33m(\u001B[0m\u001B[0mvalue\u001B[0m\u001B[1;33m,\u001B[0m \u001B[0mDataFrame\u001B[0m\u001B[1;33m)\u001B[0m\u001B[1;33m\u001B[0m\u001B[1;33m\u001B[0m\u001B[0m\n\u001B[0;32m   5247\u001B[0m         \u001B[1;32mif\u001B[0m \u001B[0mis_dict_like\u001B[0m\u001B[1;33m(\u001B[0m\u001B[0mvalue\u001B[0m\u001B[1;33m)\u001B[0m\u001B[1;33m:\u001B[0m\u001B[1;33m\u001B[0m\u001B[1;33m\u001B[0m\u001B[0m\n\u001B[0;32m   5248\u001B[0m             \u001B[1;32mif\u001B[0m \u001B[1;32mnot\u001B[0m \u001B[0misinstance\u001B[0m\u001B[1;33m(\u001B[0m\u001B[0mvalue\u001B[0m\u001B[1;33m,\u001B[0m \u001B[0mSeries\u001B[0m\u001B[1;33m)\u001B[0m\u001B[1;33m:\u001B[0m\u001B[1;33m\u001B[0m\u001B[1;33m\u001B[0m\u001B[0m\n\u001B[0;32m   5249\u001B[0m                 \u001B[0mvalue\u001B[0m \u001B[1;33m=\u001B[0m \u001B[0mSeries\u001B[0m\u001B[1;33m(\u001B[0m\u001B[0mvalue\u001B[0m\u001B[1;33m)\u001B[0m\u001B[1;33m\u001B[0m\u001B[1;33m\u001B[0m\u001B[0m\n\u001B[1;32m-> 5250\u001B[1;33m             \u001B[1;32mreturn\u001B[0m \u001B[0m_reindex_for_setitem\u001B[0m\u001B[1;33m(\u001B[0m\u001B[0mvalue\u001B[0m\u001B[1;33m,\u001B[0m \u001B[0mself\u001B[0m\u001B[1;33m.\u001B[0m\u001B[0mindex\u001B[0m\u001B[1;33m)\u001B[0m\u001B[1;33m\u001B[0m\u001B[1;33m\u001B[0m\u001B[0m\n\u001B[0m\u001B[0;32m   5251\u001B[0m \u001B[1;33m\u001B[0m\u001B[0m\n\u001B[0;32m   5252\u001B[0m         \u001B[1;32mif\u001B[0m \u001B[0mis_list_like\u001B[0m\u001B[1;33m(\u001B[0m\u001B[0mvalue\u001B[0m\u001B[1;33m)\u001B[0m\u001B[1;33m:\u001B[0m\u001B[1;33m\u001B[0m\u001B[1;33m\u001B[0m\u001B[0m\n\u001B[0;32m   5253\u001B[0m             \u001B[0mcom\u001B[0m\u001B[1;33m.\u001B[0m\u001B[0mrequire_length_match\u001B[0m\u001B[1;33m(\u001B[0m\u001B[0mvalue\u001B[0m\u001B[1;33m,\u001B[0m \u001B[0mself\u001B[0m\u001B[1;33m.\u001B[0m\u001B[0mindex\u001B[0m\u001B[1;33m)\u001B[0m\u001B[1;33m\u001B[0m\u001B[1;33m\u001B[0m\u001B[0m\n",
      "\u001B[1;32m~\\.conda\\envs\\POO\\Lib\\site-packages\\pandas\\core\\frame.py\u001B[0m in \u001B[0;36m?\u001B[1;34m(value, index)\u001B[0m\n\u001B[0;32m  12677\u001B[0m         \u001B[1;32mif\u001B[0m \u001B[1;32mnot\u001B[0m \u001B[0mvalue\u001B[0m\u001B[1;33m.\u001B[0m\u001B[0mindex\u001B[0m\u001B[1;33m.\u001B[0m\u001B[0mis_unique\u001B[0m\u001B[1;33m:\u001B[0m\u001B[1;33m\u001B[0m\u001B[1;33m\u001B[0m\u001B[0m\n\u001B[0;32m  12678\u001B[0m             \u001B[1;31m# duplicate axis\u001B[0m\u001B[1;33m\u001B[0m\u001B[1;33m\u001B[0m\u001B[0m\n\u001B[0;32m  12679\u001B[0m             \u001B[1;32mraise\u001B[0m \u001B[0merr\u001B[0m\u001B[1;33m\u001B[0m\u001B[1;33m\u001B[0m\u001B[0m\n\u001B[0;32m  12680\u001B[0m \u001B[1;33m\u001B[0m\u001B[0m\n\u001B[1;32m> 12681\u001B[1;33m         raise TypeError(\n\u001B[0m\u001B[0;32m  12682\u001B[0m             \u001B[1;34m\"incompatible index of inserted column with frame index\"\u001B[0m\u001B[1;33m\u001B[0m\u001B[1;33m\u001B[0m\u001B[0m\n\u001B[0;32m  12683\u001B[0m         ) from err\n\u001B[0;32m  12684\u001B[0m     \u001B[1;32mreturn\u001B[0m \u001B[0mreindexed_value\u001B[0m\u001B[1;33m,\u001B[0m \u001B[1;32mNone\u001B[0m\u001B[1;33m\u001B[0m\u001B[1;33m\u001B[0m\u001B[0m\n",
      "\u001B[1;31mTypeError\u001B[0m: incompatible index of inserted column with frame index"
     ]
    }
   ],
   "execution_count": 85
  },
  {
   "metadata": {},
   "cell_type": "code",
   "outputs": [],
   "execution_count": null,
   "source": "",
   "id": "379d941b45914f66"
  }
 ],
 "metadata": {
  "kernelspec": {
   "display_name": "Python 3",
   "language": "python",
   "name": "python3"
  },
  "language_info": {
   "codemirror_mode": {
    "name": "ipython",
    "version": 2
   },
   "file_extension": ".py",
   "mimetype": "text/x-python",
   "name": "python",
   "nbconvert_exporter": "python",
   "pygments_lexer": "ipython2",
   "version": "2.7.6"
  }
 },
 "nbformat": 4,
 "nbformat_minor": 5
}
