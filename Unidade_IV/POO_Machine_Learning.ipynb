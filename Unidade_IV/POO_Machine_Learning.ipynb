{
 "cells": [
  {
   "metadata": {},
   "cell_type": "markdown",
   "source": "# POO para Análise Exploratória de Dados",
   "id": "6b59ed0240e43653"
  },
  {
   "metadata": {},
   "cell_type": "markdown",
   "source": "## Machine Learning",
   "id": "671a9bbc17b498d8"
  },
  {
   "metadata": {
    "ExecuteTime": {
     "end_time": "2024-04-24T23:23:31.430300Z",
     "start_time": "2024-04-24T23:23:31.409242Z"
    }
   },
   "cell_type": "code",
   "source": [
    "\"\"\"\n",
    "> A aprendizagem de máquina utiliza de conhecimentos matemáticos e estatísticos para identificar padrões através dos dados.\n",
    "Aplicabilidades:\n",
    "> Prever vendas;\n",
    "> Segmentar clientes;\n",
    "> Recomendar produtos;\n",
    "> Criar um chatbot.\n",
    "\n",
    "Processo de mineração de dados:\n",
    "> Business Understandig: identificar as necessidades do negócio;\n",
    "> Data Understanding: identificar os dados;\n",
    "> Data Preparation: preparar os dados;\n",
    "> Model Building: construir o modelo;\n",
    "> Model Evaluation: avaliar o modelo;\n",
    "> Model Deployment: realizar o lançamento do modelo.\n",
    "\"\"\""
   ],
   "id": "f253fe83c96e553e",
   "outputs": [
    {
     "data": {
      "text/plain": [
       "'\\n> A aprendizagem de máquina utiliza de conhecimentos matemáticos e estatísticos para identificar padrões através dos dados.\\nAplicabilidades:\\n> Prever vendas;\\n> Segmentar clientes;\\n> Recomendar produtos;\\n> Criar um chatbot.\\n\\nProcesso de mineração de dados:\\n> Business Understandig: identificar as necessidades do negócio;\\n> Data Understanding: identificar os dados;\\n> Data Preparation: preparar os dados;\\n> Model Building: construir o modelo;\\n> Model Evaluation: avaliar o modelo;\\n> Model Deployment: realizar o lançamento do modelo.\\n'"
      ]
     },
     "execution_count": 1,
     "metadata": {},
     "output_type": "execute_result"
    }
   ],
   "execution_count": 1
  },
  {
   "metadata": {},
   "cell_type": "markdown",
   "source": "## Dataset",
   "id": "f618f86d606c0cc1"
  },
  {
   "metadata": {},
   "cell_type": "code",
   "outputs": [],
   "execution_count": null,
   "source": [
    "\"\"\"\n",
    "Baixar o dataset disponível em: https://www.kaggle.com/c/titanic\n",
    "\"\"\""
   ],
   "id": "69670739c6dc798e"
  }
 ],
 "metadata": {
  "kernelspec": {
   "display_name": "Python 3",
   "language": "python",
   "name": "python3"
  },
  "language_info": {
   "codemirror_mode": {
    "name": "ipython",
    "version": 2
   },
   "file_extension": ".py",
   "mimetype": "text/x-python",
   "name": "python",
   "nbconvert_exporter": "python",
   "pygments_lexer": "ipython2",
   "version": "2.7.6"
  }
 },
 "nbformat": 4,
 "nbformat_minor": 5
}
